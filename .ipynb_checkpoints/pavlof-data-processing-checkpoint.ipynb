{
 "cells": [
  {
   "cell_type": "code",
   "execution_count": 1,
   "id": "df6f5f57",
   "metadata": {},
   "outputs": [
    {
     "data": {
      "text/plain": [
       "<Figure size 432x288 with 0 Axes>"
      ]
     },
     "metadata": {},
     "output_type": "display_data"
    }
   ],
   "source": [
    "import matplotlib.pyplot as plt\n",
    "import numpy as np\n",
    "import seaborn as sns\n",
    "import scipy.signal as sg\n",
    "from matplotlib.lines import Line2D\n",
    "import gc\n",
    "import os\n",
    "\n",
    "sns.set(style='ticks', palette='Set2')\n",
    "sns.despine()"
   ]
  },
  {
   "cell_type": "code",
   "execution_count": 3,
   "id": "dba25c55",
   "metadata": {},
   "outputs": [],
   "source": [
    "def filtering(field, dt, cutoff_freq_l, cutoff_freq_h, cushion=5000):\n",
    "    HH = np.ma.size(field, axis=0)\n",
    "    NN_og = np.ma.size(field, axis=1)\n",
    "    NN = NN_og + cushion\n",
    "\n",
    "    temp = np.zeros((HH, NN))\n",
    "    field_initial = field[:,0]\n",
    "    initial = np.tile(field_initial, (cushion, 1)).transpose()\n",
    "    temp[:, :cushion] = initial\n",
    "    temp[:, cushion:] = field\n",
    "    gc.collect()\n",
    "\n",
    "    nyq_freq = 0.5 / dt # in Hz\n",
    "    normal_cutoff_l = cutoff_freq_l / nyq_freq\n",
    "    b, a = sg.butter(3, normal_cutoff_l, btype='low', analog=False)\n",
    "    filt_l = sg.lfilter(b, a, temp)\n",
    "    gc.collect()\n",
    "    \n",
    "    normal_cutoff_h = cutoff_freq_h / nyq_freq\n",
    "    b1, a1 = sg.butter(3, normal_cutoff_h, btype='high', analog=False)\n",
    "    filt = sg.lfilter(b1, a1, filt_l)[:,cushion:]\n",
    "    \n",
    "    return filt"
   ]
  },
  {
   "cell_type": "code",
   "execution_count": 2,
   "id": "a6cbe9af",
   "metadata": {},
   "outputs": [],
   "source": [
    "data = np.loadtxt('/Users/kcoppess/muspelheim/fdsnws-dataselect_2023-11-19t23_22_44z.csv', skiprows=19, usecols=1) / 1.6116e8"
   ]
  },
  {
   "cell_type": "code",
   "execution_count": 4,
   "id": "0bba96a2",
   "metadata": {},
   "outputs": [],
   "source": [
    "filtered = filtering(np.array([data]), 0.01, 5, 0.8)[0]"
   ]
  },
  {
   "cell_type": "code",
   "execution_count": null,
   "id": "a5c6045e",
   "metadata": {},
   "outputs": [],
   "source": [
    "envelope = np.abs(sg.hilbert(filtered))"
   ]
  },
  {
   "cell_type": "code",
   "execution_count": null,
   "id": "451ca844",
   "metadata": {},
   "outputs": [],
   "source": [
    "NN = int(5 * 60 / 0.01)\n",
    "hann_window = np.hanning(NN)"
   ]
  },
  {
   "cell_type": "code",
   "execution_count": null,
   "id": "9a47569f",
   "metadata": {},
   "outputs": [],
   "source": [
    "smoothing = []\n",
    "tpts = []\n",
    "for ii in range(len(data) - NN):\n",
    "    tpts.append(time[ii + int(NN/2)])\n",
    "    point = np.average(envelope[ii:(ii + NN)] * hann_window)\n",
    "    smoothing.append(point)\n",
    "\n",
    "smoothed = np.array(smoothing)\n",
    "window_time = np.array(tpts)"
   ]
  },
  {
   "cell_type": "code",
   "execution_count": null,
   "id": "4e9cce81",
   "metadata": {},
   "outputs": [],
   "source": [
    "np.shape(smoothed)"
   ]
  },
  {
   "cell_type": "code",
   "execution_count": 5,
   "id": "0fd69510",
   "metadata": {},
   "outputs": [],
   "source": [
    "time = np.arange(len(data)) * 0.01"
   ]
  },
  {
   "cell_type": "code",
   "execution_count": 6,
   "id": "38d2889b",
   "metadata": {},
   "outputs": [],
   "source": [
    "dt = 0.01\n",
    "tt = len(time)\n",
    "freq = np.fft.fftfreq(tt, dt)\n",
    "\n",
    "N = len(freq)*2 # number of Fourier sample points\n",
    "L = N*dt # profile length\n",
    "\n",
    "ver_FFT = np.fft.fft(filtered) * dt\n",
    "\n",
    "vertical_PSD = np.abs(ver_FFT)**2 / L\n",
    "\n",
    "vertical_PSD_dB = 10 * np.log10(vertical_PSD)"
   ]
  },
  {
   "cell_type": "code",
   "execution_count": null,
   "id": "79c31de0",
   "metadata": {},
   "outputs": [],
   "source": [
    "# median_window_size = np.argwhere(freq > 0.33)[0, 0]\n",
    "\n",
    "# median_PSD = np.zeros(len(vertical_PSD) - median_window_size)\n",
    "\n",
    "# for ii in range(len(vertical_PSD) - median_window_size):\n",
    "#     median_PSD[ii] = np.median(vertical_PSD[ii:(ii + median_window_size)])"
   ]
  },
  {
   "cell_type": "code",
   "execution_count": null,
   "id": "b47b5d17",
   "metadata": {},
   "outputs": [],
   "source": [
    "median_window_size = np.argwhere(freq > 0.33)[0, 0]\n",
    "\n",
    "median_PSD_np = sg.medfilt(vertical_PSD, kernel_size = median_window_size)"
   ]
  },
  {
   "cell_type": "code",
   "execution_count": null,
   "id": "9bcc58f4",
   "metadata": {},
   "outputs": [],
   "source": [
    "%matplotlib notebook\n",
    "\n",
    "plt.plot(freq[:int(tt/2)], vertical_PSD_dB[:int(tt/2)])\n",
    "plt.plot(freq[:(int(tt/2))], 10*np.log10(median_PSD_np[:int(tt/2)]))\n",
    "plt.xlim(0.8, 5)\n",
    "plt.show()"
   ]
  },
  {
   "cell_type": "code",
   "execution_count": null,
   "id": "43c21755",
   "metadata": {},
   "outputs": [],
   "source": [
    "%matplotlib notebook\n",
    "\n",
    "plt.figure(figsize=(7.5,4))\n",
    "\n",
    "# plt.plot(time/60/60, filtered)\n",
    "plt.plot(window_time/60/60, smoothed)\n",
    "plt.show()"
   ]
  },
  {
   "cell_type": "code",
   "execution_count": null,
   "id": "a3f2e0f1",
   "metadata": {},
   "outputs": [],
   "source": []
  }
 ],
 "metadata": {
  "kernelspec": {
   "display_name": "Python 3 (ipykernel)",
   "language": "python",
   "name": "python3"
  },
  "language_info": {
   "codemirror_mode": {
    "name": "ipython",
    "version": 3
   },
   "file_extension": ".py",
   "mimetype": "text/x-python",
   "name": "python",
   "nbconvert_exporter": "python",
   "pygments_lexer": "ipython3",
   "version": "3.9.12"
  }
 },
 "nbformat": 4,
 "nbformat_minor": 5
}
